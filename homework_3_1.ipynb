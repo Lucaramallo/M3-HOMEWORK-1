{
 "cells": [
  {
   "attachments": {},
   "cell_type": "markdown",
   "metadata": {},
   "source": [
    "## Homework\n",
    "\n",
    "A lo largo del módulo ustedes serán los analistas de datos de una compañía de venta de insumos tecnológicos al público. \n",
    "\n",
    "A lo largo de las prácticas se harán cargo de la información de la empresa y realizarán el proceso completo de:\n",
    "1 captura,\n",
    "2 limpieza,\n",
    "3 análisis,\n",
    "4 diagnóstico,\n",
    "5 documentación,\n",
    "6 explotación y..\n",
    "7 publicación de resultados.\n",
    "\n",
    "La Dirección de Ventas\n",
    "ha solicitado las siguientes tablas a Marketing\n",
    "con el fin de que sean integradas:\n",
    "\n",
    "* La tabla de puntos de venta propios, un Excel frecuentemente utilizado para contactar a cada sucursal, actualizada en 2021.\n",
    "* La tabla de empleados, un Excel mantenido por el personal administrativo de RRHH.\n",
    "* La tabla de proveedores, un Excel mantenido por un analista de otra dirección que ya no esta en la empresa. \n",
    "* La tabla de clientes, alojada en el CRM de la empresa.\n",
    "* La tabla de productos, un Excel mantenido por otro analista.\n",
    "* Las tablas de ventas, gastos y compras, tres archivos CSV generados a partir del sistema transaccional de la empresa.\n",
    "\n",
    "Es necesario realizar la captura de esos archivos e ingestarlos dentro de nuestra base de datos."
   ]
  },
  {
   "cell_type": "code",
   "execution_count": null,
   "metadata": {},
   "outputs": [],
   "source": [
    "#como se ingestan los datos en la base de datos\n",
    "\n",
    "# 1 - crear las tablas! y antes claro, la BD.\n",
    "\n",
    "# utilizo el Query... pero antes..\n",
    "# SQL no admite excel. debo transformarlos a todos para poder ingestar...\n",
    "# directamente abro excel y los guardo como CSV. # ready\n",
    "\n",
    "# Debo estudiar los archivos, hay valores separados por (,) por (;).. hay algun problema con los datos??...\n"
   ]
  },
  {
   "attachments": {},
   "cell_type": "markdown",
   "metadata": {},
   "source": [
    "### 1 * La tabla de puntos de venta propios, un Excel frecuentemente utilizado para contactar a cada sucursal, actualizada en 2021."
   ]
  },
  {
   "cell_type": "code",
   "execution_count": null,
   "metadata": {},
   "outputs": [],
   "source": [
    "#Asi importo un CSV con pandas a Py visual.\n",
    "\n",
    "import pandas as pd\n",
    "filename = 'C:/Users/Luca/Desktop/VsCode/Data Scientist/CURSADO HENRY DTS09/MODULO 3/Clase 01/Homework/CanalDeVenta.csv'\n",
    "\n",
    "# usa solo las columnas que necesito 'CODIGO' y 'DESCRIPCION'\n",
    "canal_de_venta = pd.read_csv(filename, usecols=['CODIGO', 'DESCRIPCION'], encoding='ANSI')\n",
    "canal_de_venta.columns = canal_de_venta.columns.str.lower()\n",
    "\n",
    "print(canal_de_venta.shape)\n",
    "print (canal_de_venta.head(10))\n",
    "print(type(canal_de_venta))"
   ]
  },
  {
   "cell_type": "code",
   "execution_count": null,
   "metadata": {},
   "outputs": [],
   "source": [
    "# el Siguiente paso es convertir el dataframe en una TUPLA\n",
    "# para luego poder cargarla con un query.\n",
    "tuplas_canal_de_venta = [tuple(x) for x in canal_de_venta.itertuples(index=False)]\n",
    "tuplas_canal_de_venta"
   ]
  },
  {
   "cell_type": "code",
   "execution_count": null,
   "metadata": {},
   "outputs": [],
   "source": [
    "# df_canal_de_venta = canal_de_venta.drop(['Unnamed: 2', 'Unnamed: 3'], axis=1)\n",
    "\n",
    "# df_canal_de_venta"
   ]
  },
  {
   "cell_type": "code",
   "execution_count": null,
   "metadata": {},
   "outputs": [],
   "source": [
    "#df_canal_de_venta.columns = df_canal_de_venta.columns.str.lower()"
   ]
  },
  {
   "cell_type": "code",
   "execution_count": null,
   "metadata": {},
   "outputs": [],
   "source": [
    "# df_canal_de_venta"
   ]
  },
  {
   "cell_type": "code",
   "execution_count": null,
   "metadata": {},
   "outputs": [],
   "source": [
    "#DEBO CONECTARME AL COURSOR DE MYSQL EN LA DATABASE QUE DESEO IMPORTAR.\n",
    "\n",
    "import pymysql\n",
    "conexion = pymysql.connect(\n",
    "    host = 'localhost',\n",
    "    user = 'root',\n",
    "    passwd = 'Veintiuno5021tuani@',\n",
    "    database = 'modulo_3'\n",
    ")\n",
    "\n",
    "cursor = conexion.cursor()"
   ]
  },
  {
   "cell_type": "code",
   "execution_count": null,
   "metadata": {},
   "outputs": [],
   "source": [
    "#claro que antes de cargar ya debo tener creada la base de datos y la taba donde voy a verter los datos.\n",
    "\n",
    "query = 'INSERT INTO canal_de_venta (codigo, descripcion) VALUES (%s,%s)'\n",
    "cursor.executemany(query,tuplas_canal_de_venta) #cargar query,con la linea analizada, a esp aplicale for, mas optimo que cargar con un for.\n",
    "#cargo /poblar la tabla...\n",
    "\n",
    "conexion.commit() #comiteo\n",
    "\n",
    "#revisando un poco....\n",
    "cursor.execute(\"SELECT * FROM canal_de_venta LIMIT 10\")\n",
    "for registro in cursor:\n",
    "    print(registro)\n",
    "    break"
   ]
  },
  {
   "cell_type": "code",
   "execution_count": null,
   "metadata": {},
   "outputs": [],
   "source": [
    "conexion.close()"
   ]
  },
  {
   "attachments": {},
   "cell_type": "markdown",
   "metadata": {},
   "source": [
    "### * La tabla de empleados, un Excel mantenido por el personal administrativo de RRHH."
   ]
  },
  {
   "cell_type": "code",
   "execution_count": null,
   "metadata": {},
   "outputs": [],
   "source": [
    "#Asi importo un CSV con pandas a Py visual.\n",
    "\n",
    "import pandas as pd\n",
    "filename = 'C:/Users/Luca/Desktop/VsCode/Data Scientist/CURSADO HENRY DTS09/MODULO 3/Clase 01/Homework/Empleados.csv'\n",
    "empleado = pd.read_csv(filename, header=0,encoding='ANSI')\n",
    "empleado.columns = empleado.columns.str.lower()\n",
    "empleado.drop_duplicates(inplace=True)\n",
    "print(empleado.shape)\n",
    "print (empleado.head(10))\n"
   ]
  },
  {
   "cell_type": "code",
   "execution_count": null,
   "metadata": {},
   "outputs": [],
   "source": [
    "# el Siguiente paso es convertir el dataframe en una TUPLA\n",
    "# para luego poder cargarla con un query.\n",
    "tupla_empleado = [tuple(x) for x in empleado.itertuples(index=False)]\n",
    "tupla_empleado"
   ]
  },
  {
   "cell_type": "code",
   "execution_count": null,
   "metadata": {},
   "outputs": [],
   "source": [
    "import pymysql\n",
    "conexion = pymysql.connect(\n",
    "    host = 'localhost',\n",
    "    user = 'root',\n",
    "    passwd = 'Veintiuno5021tuani@',\n",
    "    database = 'modulo_3'\n",
    ")\n",
    "\n",
    "cursor = conexion.cursor()"
   ]
  },
  {
   "cell_type": "code",
   "execution_count": null,
   "metadata": {},
   "outputs": [],
   "source": [
    "#claro que antes de cargar ya debo tener creada la base de datos y la taba donde voy a verter los datos.\n",
    "\n",
    "query = 'INSERT INTO empleado (id_empleado, apellido, nombre, sucursal, sector, cargo, salario) VALUES (%s,%s,%s,%s,%s,%s,%s)'\n",
    "cursor.executemany(query,tupla_empleado) #cargar query,con la linea analizada, a esp aplicale for, mas optimo que cargar con un for.\n",
    "#cargo /poblar la tabla...\n",
    "\n",
    "conexion.commit() #comiteo\n",
    "\n",
    "#revisando un poco....\n",
    "cursor.execute(\"SELECT * FROM empleado LIMIT 10\")\n",
    "for registro in cursor:\n",
    "    print(registro)\n",
    "    break"
   ]
  },
  {
   "cell_type": "code",
   "execution_count": null,
   "metadata": {},
   "outputs": [],
   "source": [
    "conexion.close()"
   ]
  },
  {
   "attachments": {},
   "cell_type": "markdown",
   "metadata": {},
   "source": [
    "### * La tabla de proveedores, un Excel mantenido por un analista de otra dirección que ya no esta en la empresa."
   ]
  },
  {
   "cell_type": "code",
   "execution_count": null,
   "metadata": {},
   "outputs": [],
   "source": [
    "#Asi importo un CSV con pandas a Py visual.\n",
    "\n",
    "import pandas as pd\n",
    "filename = 'C:/Users/Luca/Desktop/VsCode/Data Scientist/CURSADO HENRY DTS09/MODULO 3/Clase 01/Homework/Proveedores.csv'\n",
    "proveedores = pd.read_csv(filename, header=0,encoding='ANSI')\n",
    "proveedores.columns = proveedores.columns.str.lower()\n",
    "print(proveedores.shape)\n",
    "print (proveedores.head(10))\n"
   ]
  },
  {
   "cell_type": "code",
   "execution_count": null,
   "metadata": {},
   "outputs": [],
   "source": []
  },
  {
   "attachments": {},
   "cell_type": "markdown",
   "metadata": {},
   "source": [
    "### * La tabla de clientes, alojada en el CRM de la empresa..\n"
   ]
  },
  {
   "cell_type": "code",
   "execution_count": null,
   "metadata": {},
   "outputs": [],
   "source": [
    "import pandas as pd\n",
    "filename = 'C:/Users/Luca/Desktop/VsCode/Data Scientist/CURSADO HENRY DTS09/MODULO 3/Clase 01/Homework/Clientes.csv'\n",
    "clientes = pd.read_csv(filename, header=0,encoding='ANSI',sep=';')\n",
    "clientes.columns = clientes.columns.str.lower()\n",
    "print(clientes.shape)\n",
    "print (clientes.head(10))"
   ]
  },
  {
   "attachments": {},
   "cell_type": "markdown",
   "metadata": {},
   "source": [
    "### * La tabla de productos, un Excel mantenido por otro analista.\n"
   ]
  },
  {
   "cell_type": "code",
   "execution_count": null,
   "metadata": {},
   "outputs": [],
   "source": [
    "import pandas as pd\n",
    "filename = 'C:/Users/Luca/Desktop/VsCode/Data Scientist/CURSADO HENRY DTS09/MODULO 3/Clase 01/Homework/PRODUCTOS.csv'\n",
    "producto = pd.read_csv(filename, header=0,encoding='ANSI')\n",
    "producto.columns = producto.columns.str.lower()\n",
    "print(producto.shape)\n",
    "print (producto.head(10))"
   ]
  },
  {
   "attachments": {},
   "cell_type": "markdown",
   "metadata": {},
   "source": [
    "### * Las tablas de ventas, gastos y compras, tres archivos CSV generados a partir del sistema transaccional de la empresa"
   ]
  },
  {
   "cell_type": "code",
   "execution_count": null,
   "metadata": {},
   "outputs": [],
   "source": [
    "import pandas as pd\n",
    "filename = 'C:/Users/Luca/Desktop/VsCode/Data Scientist/CURSADO HENRY DTS09/MODULO 3/Clase 01/Homework/Venta.csv'\n",
    "ventas = pd.read_csv(filename, header=0,encoding='ANSI')\n",
    "ventas.columns = ventas.columns.str.lower()\n",
    "print(ventas.shape)\n",
    "print (ventas.head(10))"
   ]
  },
  {
   "cell_type": "code",
   "execution_count": null,
   "metadata": {},
   "outputs": [],
   "source": [
    "import pandas as pd\n",
    "filename = 'C:/Users/Luca/Desktop/VsCode/Data Scientist/CURSADO HENRY DTS09/MODULO 3/Clase 01/Homework/TiposDeGasto.csv'\n",
    "tipos_de_gasto = pd.read_csv(filename, header=0,encoding='ANSI')\n",
    "tipos_de_gasto.columns = tipos_de_gasto.columns.str.lower()\n",
    "print(tipos_de_gasto.shape)\n",
    "print (tipos_de_gasto.head(10))\n",
    "\n"
   ]
  },
  {
   "cell_type": "code",
   "execution_count": null,
   "metadata": {},
   "outputs": [],
   "source": [
    "import pandas as pd\n",
    "filename = 'C:/Users/Luca/Desktop/VsCode/Data Scientist/CURSADO HENRY DTS09/MODULO 3/Clase 01/Homework/Gasto.csv'\n",
    "gasto = pd.read_csv(filename, header=0,encoding='ANSI')\n",
    "gasto.columns = gasto.columns.str.lower()\n",
    "print(gasto.shape)\n",
    "print (gasto.head(10))"
   ]
  },
  {
   "cell_type": "code",
   "execution_count": null,
   "metadata": {},
   "outputs": [],
   "source": [
    "import pandas as pd\n",
    "filename = 'C:/Users/Luca/Desktop/VsCode/Data Scientist/CURSADO HENRY DTS09/MODULO 3/Clase 01/Homework/Compra.csv'\n",
    "compra = pd.read_csv(filename, header=0,encoding='ANSI')\n",
    "compra.columns = compra.columns.str.lower()\n",
    "print(compra.shape)\n",
    "print (compra.head(10))"
   ]
  },
  {
   "attachments": {},
   "cell_type": "markdown",
   "metadata": {},
   "source": [
    "### Cargar a SQL DataBase: \n",
    "\n",
    "Con Pandas as pd...\n"
   ]
  },
  {
   "cell_type": "code",
   "execution_count": null,
   "metadata": {},
   "outputs": [],
   "source": [
    "\n",
    "#DEBO CONECTARME AL COURSOR DE MYSQL\n",
    "import pymysql\n",
    "conexion = pymysql.connect(\n",
    "    host = 'localhost',\n",
    "    user = 'root',\n",
    "    passwd = 'Veintiuno5021tuani@',\n",
    "    database = 'modulo_3'\n",
    ")\n",
    "\n",
    "cursor = conexion.cursor()"
   ]
  },
  {
   "cell_type": "code",
   "execution_count": null,
   "metadata": {},
   "outputs": [],
   "source": []
  },
  {
   "cell_type": "code",
   "execution_count": null,
   "metadata": {},
   "outputs": [],
   "source": []
  },
  {
   "cell_type": "code",
   "execution_count": null,
   "metadata": {},
   "outputs": [],
   "source": []
  }
 ],
 "metadata": {
  "kernelspec": {
   "display_name": "Python 3",
   "language": "python",
   "name": "python3"
  },
  "language_info": {
   "codemirror_mode": {
    "name": "ipython",
    "version": 3
   },
   "file_extension": ".py",
   "mimetype": "text/x-python",
   "name": "python",
   "nbconvert_exporter": "python",
   "pygments_lexer": "ipython3",
   "version": "3.10.10"
  },
  "orig_nbformat": 4,
  "vscode": {
   "interpreter": {
    "hash": "957a0973b20c9ca410cb31745b8585db68510eafaadcea06bf68cd1027372551"
   }
  }
 },
 "nbformat": 4,
 "nbformat_minor": 2
}
